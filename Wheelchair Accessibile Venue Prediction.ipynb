{
 "cells": [
  {
   "cell_type": "markdown",
   "id": "homeless-quality",
   "metadata": {
    "id": "bA5ajAmk7XH6"
   },
   "source": [
    "# Data Scientist Professional Case Study\n",
    "\n",
    "### Company Background\n",
    "\n",
    "National Accessibility currently installs wheelchair ramps for office buildings and schools. The marketing manager wants the company to start installing ramps for event venues as well. According to a new survey, approximately 40% of event venues are not wheelchair accessible. However, it is not easy to know whether a venue already has a ramp installed.\n",
    "\n",
    "It is a waste of time to contact venues that already have a ramp installed, and it also looks bad for the company. They would like the help of the data science team in predicting which venues already have a ramp installed. \n",
    "\n",
    "### Customer Question\n",
    "\n",
    "The marketing manager would like to know:\n",
    "- Can you develop a model to predict whether an event venue already has a wheelchair ramp installed?\n",
    "\n",
    "### Success Criteria\n",
    "\n",
    "To reduce the amount of time wasted by the company contacting venues that already have a ramp, at least two-thirds of venues predicted to be without a ramp should not have a ramp. \n",
    "\n",
    "\n",
    "### Dataset\n",
    "\n",
    "\n",
    "The data you will use for this analysis can be accessed here: `\"data/event_venues.csv\"`"
   ]
  },
  {
   "cell_type": "markdown",
   "id": "4964bc85-f1e1-4a4d-a59f-d4684babe8e2",
   "metadata": {},
   "source": [
    "# Part 1: Exploring the data"
   ]
  },
  {
   "cell_type": "code",
   "execution_count": null,
   "id": "dramatic-hampshire",
   "metadata": {
    "scrolled": true
   },
   "outputs": [],
   "source": [
    "import pandas as pd\n",
    "import numpy as np\n",
    "df = pd.read_csv(\"data/event_venues.csv\")"
   ]
  },
  {
   "cell_type": "code",
   "execution_count": null,
   "id": "85bd6e1a-b2cf-4cae-8eaa-74e4e91dc2d8",
   "metadata": {},
   "outputs": [
    {
     "data": {
      "application/com.datacamp.data-table.v1+json": {
       "is_truncated": false,
       "table": {
        "data": [
         {
          "Loud music / events": false,
          "Promoted / ticketed events": false,
          "Theatre_max": 112.7158671587,
          "U-Shaped_max": 35.0454545455,
          "Venue provides alcohol": 0,
          "Wheelchair accessible": false,
          "Wi-Fi": true,
          "index": 0,
          "max_standing": 0,
          "supervenue": false,
          "venue_name": "techspace aldgate east"
         },
         {
          "Loud music / events": true,
          "Promoted / ticketed events": true,
          "Theatre_max": 80,
          "U-Shaped_max": 40,
          "Venue provides alcohol": 1,
          "Wheelchair accessible": false,
          "Wi-Fi": true,
          "index": 1,
          "max_standing": 120,
          "supervenue": false,
          "venue_name": "green rooms hotel"
         },
         {
          "Loud music / events": false,
          "Promoted / ticketed events": false,
          "Theatre_max": 112.7158671587,
          "U-Shaped_max": 35.0454545455,
          "Venue provides alcohol": 0,
          "Wheelchair accessible": false,
          "Wi-Fi": true,
          "index": 2,
          "max_standing": 0,
          "supervenue": false,
          "venue_name": "148 leadenhall street"
         },
         {
          "Loud music / events": false,
          "Promoted / ticketed events": false,
          "Theatre_max": 60,
          "U-Shaped_max": 35.0454545455,
          "Venue provides alcohol": 0,
          "Wheelchair accessible": false,
          "Wi-Fi": true,
          "index": 3,
          "max_standing": 60,
          "supervenue": false,
          "venue_name": "conway hall"
         },
         {
          "Loud music / events": false,
          "Promoted / ticketed events": false,
          "Theatre_max": 112.7158671587,
          "U-Shaped_max": 35.0454545455,
          "Venue provides alcohol": 0,
          "Wheelchair accessible": false,
          "Wi-Fi": true,
          "index": 4,
          "max_standing": 0,
          "supervenue": false,
          "venue_name": "gridiron building"
         }
        ],
        "schema": {
         "fields": [
          {
           "name": "index",
           "type": "integer"
          },
          {
           "name": "venue_name",
           "type": "string"
          },
          {
           "name": "Loud music / events",
           "type": "boolean"
          },
          {
           "name": "Venue provides alcohol",
           "type": "integer"
          },
          {
           "name": "Wi-Fi",
           "type": "boolean"
          },
          {
           "name": "supervenue",
           "type": "boolean"
          },
          {
           "name": "U-Shaped_max",
           "type": "number"
          },
          {
           "name": "max_standing",
           "type": "integer"
          },
          {
           "name": "Theatre_max",
           "type": "number"
          },
          {
           "name": "Promoted / ticketed events",
           "type": "boolean"
          },
          {
           "name": "Wheelchair accessible",
           "type": "boolean"
          }
         ],
         "pandas_version": "0.20.0",
         "primaryKey": [
          "index"
         ]
        }
       },
       "total_rows": 5
      },
      "text/html": [
       "<div>\n",
       "<style scoped>\n",
       "    .dataframe tbody tr th:only-of-type {\n",
       "        vertical-align: middle;\n",
       "    }\n",
       "\n",
       "    .dataframe tbody tr th {\n",
       "        vertical-align: top;\n",
       "    }\n",
       "\n",
       "    .dataframe thead th {\n",
       "        text-align: right;\n",
       "    }\n",
       "</style>\n",
       "<table border=\"1\" class=\"dataframe\">\n",
       "  <thead>\n",
       "    <tr style=\"text-align: right;\">\n",
       "      <th></th>\n",
       "      <th>venue_name</th>\n",
       "      <th>Loud music / events</th>\n",
       "      <th>Venue provides alcohol</th>\n",
       "      <th>Wi-Fi</th>\n",
       "      <th>supervenue</th>\n",
       "      <th>U-Shaped_max</th>\n",
       "      <th>max_standing</th>\n",
       "      <th>Theatre_max</th>\n",
       "      <th>Promoted / ticketed events</th>\n",
       "      <th>Wheelchair accessible</th>\n",
       "    </tr>\n",
       "  </thead>\n",
       "  <tbody>\n",
       "    <tr>\n",
       "      <th>0</th>\n",
       "      <td>techspace aldgate east</td>\n",
       "      <td>False</td>\n",
       "      <td>0</td>\n",
       "      <td>True</td>\n",
       "      <td>False</td>\n",
       "      <td>35.045455</td>\n",
       "      <td>0</td>\n",
       "      <td>112.715867</td>\n",
       "      <td>False</td>\n",
       "      <td>False</td>\n",
       "    </tr>\n",
       "    <tr>\n",
       "      <th>1</th>\n",
       "      <td>green rooms hotel</td>\n",
       "      <td>True</td>\n",
       "      <td>1</td>\n",
       "      <td>True</td>\n",
       "      <td>False</td>\n",
       "      <td>40.000000</td>\n",
       "      <td>120</td>\n",
       "      <td>80.000000</td>\n",
       "      <td>True</td>\n",
       "      <td>False</td>\n",
       "    </tr>\n",
       "    <tr>\n",
       "      <th>2</th>\n",
       "      <td>148 leadenhall street</td>\n",
       "      <td>False</td>\n",
       "      <td>0</td>\n",
       "      <td>True</td>\n",
       "      <td>False</td>\n",
       "      <td>35.045455</td>\n",
       "      <td>0</td>\n",
       "      <td>112.715867</td>\n",
       "      <td>False</td>\n",
       "      <td>False</td>\n",
       "    </tr>\n",
       "    <tr>\n",
       "      <th>3</th>\n",
       "      <td>conway hall</td>\n",
       "      <td>False</td>\n",
       "      <td>0</td>\n",
       "      <td>True</td>\n",
       "      <td>False</td>\n",
       "      <td>35.045455</td>\n",
       "      <td>60</td>\n",
       "      <td>60.000000</td>\n",
       "      <td>False</td>\n",
       "      <td>False</td>\n",
       "    </tr>\n",
       "    <tr>\n",
       "      <th>4</th>\n",
       "      <td>gridiron building</td>\n",
       "      <td>False</td>\n",
       "      <td>0</td>\n",
       "      <td>True</td>\n",
       "      <td>False</td>\n",
       "      <td>35.045455</td>\n",
       "      <td>0</td>\n",
       "      <td>112.715867</td>\n",
       "      <td>False</td>\n",
       "      <td>False</td>\n",
       "    </tr>\n",
       "  </tbody>\n",
       "</table>\n",
       "</div>"
      ],
      "text/plain": [
       "               venue_name  Loud music / events  Venue provides alcohol  Wi-Fi  \\\n",
       "0  techspace aldgate east                False                       0   True   \n",
       "1       green rooms hotel                 True                       1   True   \n",
       "2   148 leadenhall street                False                       0   True   \n",
       "3             conway hall                False                       0   True   \n",
       "4       gridiron building                False                       0   True   \n",
       "\n",
       "   supervenue  U-Shaped_max  max_standing  Theatre_max  \\\n",
       "0       False     35.045455             0   112.715867   \n",
       "1       False     40.000000           120    80.000000   \n",
       "2       False     35.045455             0   112.715867   \n",
       "3       False     35.045455            60    60.000000   \n",
       "4       False     35.045455             0   112.715867   \n",
       "\n",
       "   Promoted / ticketed events  Wheelchair accessible  \n",
       "0                       False                  False  \n",
       "1                        True                  False  \n",
       "2                       False                  False  \n",
       "3                       False                  False  \n",
       "4                       False                  False  "
      ]
     },
     "execution_count": 2,
     "metadata": {},
     "output_type": "execute_result"
    }
   ],
   "source": [
    "df.head()"
   ]
  },
  {
   "cell_type": "code",
   "execution_count": null,
   "id": "7edfb043-3622-41ae-88a4-135aacfa72e3",
   "metadata": {},
   "outputs": [
    {
     "name": "stdout",
     "output_type": "stream",
     "text": [
      "<class 'pandas.core.frame.DataFrame'>\n",
      "RangeIndex: 3910 entries, 0 to 3909\n",
      "Data columns (total 10 columns):\n",
      " #   Column                      Non-Null Count  Dtype  \n",
      "---  ------                      --------------  -----  \n",
      " 0   venue_name                  3910 non-null   object \n",
      " 1   Loud music / events         3910 non-null   bool   \n",
      " 2   Venue provides alcohol      3910 non-null   int64  \n",
      " 3   Wi-Fi                       3910 non-null   bool   \n",
      " 4   supervenue                  3910 non-null   bool   \n",
      " 5   U-Shaped_max                3910 non-null   float64\n",
      " 6   max_standing                3910 non-null   int64  \n",
      " 7   Theatre_max                 3910 non-null   float64\n",
      " 8   Promoted / ticketed events  3910 non-null   bool   \n",
      " 9   Wheelchair accessible       3910 non-null   bool   \n",
      "dtypes: bool(5), float64(2), int64(2), object(1)\n",
      "memory usage: 172.0+ KB\n"
     ]
    }
   ],
   "source": [
    "# First thing we will be checking for are the data types and missing values.\n",
    "df.info()"
   ]
  },
  {
   "cell_type": "code",
   "execution_count": null,
   "id": "fdb53bb3-90a7-4674-9294-0e946abcb6e6",
   "metadata": {},
   "outputs": [
    {
     "data": {
      "application/com.datacamp.data-table.v1+json": {
       "is_truncated": false,
       "table": {
        "data": [
         {
          "Theatre_max": 3910,
          "U-Shaped_max": 3910,
          "Venue provides alcohol": 3910,
          "index": "count",
          "max_standing": 3910
         },
         {
          "Theatre_max": 112.7158671587,
          "U-Shaped_max": 35.0454545455,
          "Venue provides alcohol": 0.7132992327,
          "index": "mean",
          "max_standing": 114.2035805627
         },
         {
          "Theatre_max": 131.8532490552,
          "U-Shaped_max": 43.9375907851,
          "Venue provides alcohol": 0.4522784025,
          "index": "std",
          "max_standing": 272.2699431853
         },
         {
          "Theatre_max": 1,
          "U-Shaped_max": 1,
          "Venue provides alcohol": 0,
          "index": "min",
          "max_standing": 0
         },
         {
          "Theatre_max": 80,
          "U-Shaped_max": 35.0454545455,
          "Venue provides alcohol": 0,
          "index": "25%",
          "max_standing": 0
         },
         {
          "Theatre_max": 112.7158671587,
          "U-Shaped_max": 35.0454545455,
          "Venue provides alcohol": 1,
          "index": "50%",
          "max_standing": 50
         },
         {
          "Theatre_max": 112.7158671587,
          "U-Shaped_max": 35.0454545455,
          "Venue provides alcohol": 1,
          "index": "75%",
          "max_standing": 120
         },
         {
          "Theatre_max": 4000,
          "U-Shaped_max": 2520,
          "Venue provides alcohol": 1,
          "index": "max",
          "max_standing": 7500
         }
        ],
        "schema": {
         "fields": [
          {
           "name": "index",
           "type": "string"
          },
          {
           "name": "Venue provides alcohol",
           "type": "number"
          },
          {
           "name": "U-Shaped_max",
           "type": "number"
          },
          {
           "name": "max_standing",
           "type": "number"
          },
          {
           "name": "Theatre_max",
           "type": "number"
          }
         ],
         "pandas_version": "0.20.0",
         "primaryKey": [
          "index"
         ]
        }
       },
       "total_rows": 8
      },
      "text/html": [
       "<div>\n",
       "<style scoped>\n",
       "    .dataframe tbody tr th:only-of-type {\n",
       "        vertical-align: middle;\n",
       "    }\n",
       "\n",
       "    .dataframe tbody tr th {\n",
       "        vertical-align: top;\n",
       "    }\n",
       "\n",
       "    .dataframe thead th {\n",
       "        text-align: right;\n",
       "    }\n",
       "</style>\n",
       "<table border=\"1\" class=\"dataframe\">\n",
       "  <thead>\n",
       "    <tr style=\"text-align: right;\">\n",
       "      <th></th>\n",
       "      <th>Venue provides alcohol</th>\n",
       "      <th>U-Shaped_max</th>\n",
       "      <th>max_standing</th>\n",
       "      <th>Theatre_max</th>\n",
       "    </tr>\n",
       "  </thead>\n",
       "  <tbody>\n",
       "    <tr>\n",
       "      <th>count</th>\n",
       "      <td>3910.000000</td>\n",
       "      <td>3910.000000</td>\n",
       "      <td>3910.000000</td>\n",
       "      <td>3910.000000</td>\n",
       "    </tr>\n",
       "    <tr>\n",
       "      <th>mean</th>\n",
       "      <td>0.713299</td>\n",
       "      <td>35.045455</td>\n",
       "      <td>114.203581</td>\n",
       "      <td>112.715867</td>\n",
       "    </tr>\n",
       "    <tr>\n",
       "      <th>std</th>\n",
       "      <td>0.452278</td>\n",
       "      <td>43.937591</td>\n",
       "      <td>272.269943</td>\n",
       "      <td>131.853249</td>\n",
       "    </tr>\n",
       "    <tr>\n",
       "      <th>min</th>\n",
       "      <td>0.000000</td>\n",
       "      <td>1.000000</td>\n",
       "      <td>0.000000</td>\n",
       "      <td>1.000000</td>\n",
       "    </tr>\n",
       "    <tr>\n",
       "      <th>25%</th>\n",
       "      <td>0.000000</td>\n",
       "      <td>35.045455</td>\n",
       "      <td>0.000000</td>\n",
       "      <td>80.000000</td>\n",
       "    </tr>\n",
       "    <tr>\n",
       "      <th>50%</th>\n",
       "      <td>1.000000</td>\n",
       "      <td>35.045455</td>\n",
       "      <td>50.000000</td>\n",
       "      <td>112.715867</td>\n",
       "    </tr>\n",
       "    <tr>\n",
       "      <th>75%</th>\n",
       "      <td>1.000000</td>\n",
       "      <td>35.045455</td>\n",
       "      <td>120.000000</td>\n",
       "      <td>112.715867</td>\n",
       "    </tr>\n",
       "    <tr>\n",
       "      <th>max</th>\n",
       "      <td>1.000000</td>\n",
       "      <td>2520.000000</td>\n",
       "      <td>7500.000000</td>\n",
       "      <td>4000.000000</td>\n",
       "    </tr>\n",
       "  </tbody>\n",
       "</table>\n",
       "</div>"
      ],
      "text/plain": [
       "       Venue provides alcohol  U-Shaped_max  max_standing  Theatre_max\n",
       "count             3910.000000   3910.000000   3910.000000  3910.000000\n",
       "mean                 0.713299     35.045455    114.203581   112.715867\n",
       "std                  0.452278     43.937591    272.269943   131.853249\n",
       "min                  0.000000      1.000000      0.000000     1.000000\n",
       "25%                  0.000000     35.045455      0.000000    80.000000\n",
       "50%                  1.000000     35.045455     50.000000   112.715867\n",
       "75%                  1.000000     35.045455    120.000000   112.715867\n",
       "max                  1.000000   2520.000000   7500.000000  4000.000000"
      ]
     },
     "execution_count": 4,
     "metadata": {},
     "output_type": "execute_result"
    }
   ],
   "source": [
    "# Next, we should examine the numerical features\n",
    "df.describe()"
   ]
  },
  {
   "cell_type": "markdown",
   "id": "6032209d-5ba1-4de5-aa2a-4bb4c8bc18e9",
   "metadata": {},
   "source": [
    "### Observations :\n",
    "* There are no missing values, so we don't need to worry about that.\n",
    "* venue_name is not going to be significant in predicting wheelchair accessibility, so we should drop that column.\n",
    "* We should convert all boolean columns to 1's and 0's\n",
    "* U-shaped_max and Theatre_max both have float data types, but it may be more appropriate to change them to integer types (the maximum capacity for a theatre shouldn't be 112.7 people, 112 is more realistic)"
   ]
  },
  {
   "cell_type": "code",
   "execution_count": null,
   "id": "f5736676-49ec-49f6-85a7-4775ace5f75a",
   "metadata": {},
   "outputs": [],
   "source": [
    "# Drop the venue_name column\n",
    "df_new = df.drop('venue_name',axis=1)"
   ]
  },
  {
   "cell_type": "code",
   "execution_count": null,
   "id": "2efa695f-28a5-4763-be27-ba42f41e719f",
   "metadata": {},
   "outputs": [],
   "source": [
    "#Change all of our boolean features into False=0 and True=1\n",
    "df_new['Loud music / events']=df_new['Loud music / events'].astype(int)\n",
    "df_new['supervenue'] = df_new['supervenue'].astype(int)\n",
    "df_new['Promoted / ticketed events'] = df_new['Promoted / ticketed events'].astype(int)\n",
    "df_new['Wheelchair accessible'] = df_new['Wheelchair accessible'].astype(int)\n",
    "df_new['Wi-Fi'] = df_new['Wi-Fi'].astype(int)"
   ]
  },
  {
   "cell_type": "code",
   "execution_count": null,
   "id": "594ce4bb-59d7-4b7f-b58b-418c86f49998",
   "metadata": {},
   "outputs": [],
   "source": [
    "#Change all of our float features into integers\n",
    "df_new['U-Shaped_max'] = df_new['U-Shaped_max'].astype(int)\n",
    "df_new['Theatre_max'] = df_new['Theatre_max'].astype(int)"
   ]
  },
  {
   "cell_type": "code",
   "execution_count": null,
   "id": "51f639ab-5aa2-4159-93f2-664523064396",
   "metadata": {},
   "outputs": [
    {
     "data": {
      "application/com.datacamp.data-table.v1+json": {
       "is_truncated": false,
       "table": {
        "data": [
         {
          "Loud music / events": 0,
          "Promoted / ticketed events": 0,
          "Theatre_max": 112,
          "U-Shaped_max": 35,
          "Venue provides alcohol": 0,
          "Wheelchair accessible": 0,
          "Wi-Fi": 1,
          "index": 0,
          "max_standing": 0,
          "supervenue": 0
         },
         {
          "Loud music / events": 1,
          "Promoted / ticketed events": 1,
          "Theatre_max": 80,
          "U-Shaped_max": 40,
          "Venue provides alcohol": 1,
          "Wheelchair accessible": 0,
          "Wi-Fi": 1,
          "index": 1,
          "max_standing": 120,
          "supervenue": 0
         },
         {
          "Loud music / events": 0,
          "Promoted / ticketed events": 0,
          "Theatre_max": 112,
          "U-Shaped_max": 35,
          "Venue provides alcohol": 0,
          "Wheelchair accessible": 0,
          "Wi-Fi": 1,
          "index": 2,
          "max_standing": 0,
          "supervenue": 0
         },
         {
          "Loud music / events": 0,
          "Promoted / ticketed events": 0,
          "Theatre_max": 60,
          "U-Shaped_max": 35,
          "Venue provides alcohol": 0,
          "Wheelchair accessible": 0,
          "Wi-Fi": 1,
          "index": 3,
          "max_standing": 60,
          "supervenue": 0
         },
         {
          "Loud music / events": 0,
          "Promoted / ticketed events": 0,
          "Theatre_max": 112,
          "U-Shaped_max": 35,
          "Venue provides alcohol": 0,
          "Wheelchair accessible": 0,
          "Wi-Fi": 1,
          "index": 4,
          "max_standing": 0,
          "supervenue": 0
         }
        ],
        "schema": {
         "fields": [
          {
           "name": "index",
           "type": "integer"
          },
          {
           "name": "Loud music / events",
           "type": "integer"
          },
          {
           "name": "Venue provides alcohol",
           "type": "integer"
          },
          {
           "name": "Wi-Fi",
           "type": "integer"
          },
          {
           "name": "supervenue",
           "type": "integer"
          },
          {
           "name": "U-Shaped_max",
           "type": "integer"
          },
          {
           "name": "max_standing",
           "type": "integer"
          },
          {
           "name": "Theatre_max",
           "type": "integer"
          },
          {
           "name": "Promoted / ticketed events",
           "type": "integer"
          },
          {
           "name": "Wheelchair accessible",
           "type": "integer"
          }
         ],
         "pandas_version": "0.20.0",
         "primaryKey": [
          "index"
         ]
        }
       },
       "total_rows": 5
      },
      "text/html": [
       "<div>\n",
       "<style scoped>\n",
       "    .dataframe tbody tr th:only-of-type {\n",
       "        vertical-align: middle;\n",
       "    }\n",
       "\n",
       "    .dataframe tbody tr th {\n",
       "        vertical-align: top;\n",
       "    }\n",
       "\n",
       "    .dataframe thead th {\n",
       "        text-align: right;\n",
       "    }\n",
       "</style>\n",
       "<table border=\"1\" class=\"dataframe\">\n",
       "  <thead>\n",
       "    <tr style=\"text-align: right;\">\n",
       "      <th></th>\n",
       "      <th>Loud music / events</th>\n",
       "      <th>Venue provides alcohol</th>\n",
       "      <th>Wi-Fi</th>\n",
       "      <th>supervenue</th>\n",
       "      <th>U-Shaped_max</th>\n",
       "      <th>max_standing</th>\n",
       "      <th>Theatre_max</th>\n",
       "      <th>Promoted / ticketed events</th>\n",
       "      <th>Wheelchair accessible</th>\n",
       "    </tr>\n",
       "  </thead>\n",
       "  <tbody>\n",
       "    <tr>\n",
       "      <th>0</th>\n",
       "      <td>0</td>\n",
       "      <td>0</td>\n",
       "      <td>1</td>\n",
       "      <td>0</td>\n",
       "      <td>35</td>\n",
       "      <td>0</td>\n",
       "      <td>112</td>\n",
       "      <td>0</td>\n",
       "      <td>0</td>\n",
       "    </tr>\n",
       "    <tr>\n",
       "      <th>1</th>\n",
       "      <td>1</td>\n",
       "      <td>1</td>\n",
       "      <td>1</td>\n",
       "      <td>0</td>\n",
       "      <td>40</td>\n",
       "      <td>120</td>\n",
       "      <td>80</td>\n",
       "      <td>1</td>\n",
       "      <td>0</td>\n",
       "    </tr>\n",
       "    <tr>\n",
       "      <th>2</th>\n",
       "      <td>0</td>\n",
       "      <td>0</td>\n",
       "      <td>1</td>\n",
       "      <td>0</td>\n",
       "      <td>35</td>\n",
       "      <td>0</td>\n",
       "      <td>112</td>\n",
       "      <td>0</td>\n",
       "      <td>0</td>\n",
       "    </tr>\n",
       "    <tr>\n",
       "      <th>3</th>\n",
       "      <td>0</td>\n",
       "      <td>0</td>\n",
       "      <td>1</td>\n",
       "      <td>0</td>\n",
       "      <td>35</td>\n",
       "      <td>60</td>\n",
       "      <td>60</td>\n",
       "      <td>0</td>\n",
       "      <td>0</td>\n",
       "    </tr>\n",
       "    <tr>\n",
       "      <th>4</th>\n",
       "      <td>0</td>\n",
       "      <td>0</td>\n",
       "      <td>1</td>\n",
       "      <td>0</td>\n",
       "      <td>35</td>\n",
       "      <td>0</td>\n",
       "      <td>112</td>\n",
       "      <td>0</td>\n",
       "      <td>0</td>\n",
       "    </tr>\n",
       "  </tbody>\n",
       "</table>\n",
       "</div>"
      ],
      "text/plain": [
       "   Loud music / events  Venue provides alcohol  Wi-Fi  supervenue  \\\n",
       "0                    0                       0      1           0   \n",
       "1                    1                       1      1           0   \n",
       "2                    0                       0      1           0   \n",
       "3                    0                       0      1           0   \n",
       "4                    0                       0      1           0   \n",
       "\n",
       "   U-Shaped_max  max_standing  Theatre_max  Promoted / ticketed events  \\\n",
       "0            35             0          112                           0   \n",
       "1            40           120           80                           1   \n",
       "2            35             0          112                           0   \n",
       "3            35            60           60                           0   \n",
       "4            35             0          112                           0   \n",
       "\n",
       "   Wheelchair accessible  \n",
       "0                      0  \n",
       "1                      0  \n",
       "2                      0  \n",
       "3                      0  \n",
       "4                      0  "
      ]
     },
     "execution_count": 8,
     "metadata": {},
     "output_type": "execute_result"
    }
   ],
   "source": [
    "df_new.head()"
   ]
  },
  {
   "cell_type": "code",
   "execution_count": null,
   "id": "6b0299b8-337b-47ce-922b-26b81b97b33d",
   "metadata": {},
   "outputs": [
    {
     "name": "stdout",
     "output_type": "stream",
     "text": [
      "<class 'pandas.core.frame.DataFrame'>\n",
      "RangeIndex: 3910 entries, 0 to 3909\n",
      "Data columns (total 9 columns):\n",
      " #   Column                      Non-Null Count  Dtype\n",
      "---  ------                      --------------  -----\n",
      " 0   Loud music / events         3910 non-null   int64\n",
      " 1   Venue provides alcohol      3910 non-null   int64\n",
      " 2   Wi-Fi                       3910 non-null   int64\n",
      " 3   supervenue                  3910 non-null   int64\n",
      " 4   U-Shaped_max                3910 non-null   int64\n",
      " 5   max_standing                3910 non-null   int64\n",
      " 6   Theatre_max                 3910 non-null   int64\n",
      " 7   Promoted / ticketed events  3910 non-null   int64\n",
      " 8   Wheelchair accessible       3910 non-null   int64\n",
      "dtypes: int64(9)\n",
      "memory usage: 275.0 KB\n"
     ]
    }
   ],
   "source": [
    "df_new.info()"
   ]
  },
  {
   "cell_type": "markdown",
   "id": "1acef1ea-da0d-4327-8919-20bbc6fdafab",
   "metadata": {},
   "source": [
    "# Part 2: EDA"
   ]
  },
  {
   "cell_type": "code",
   "execution_count": null,
   "id": "7f2b5ab7-9100-4803-8fdc-1960eac4b0b4",
   "metadata": {},
   "outputs": [],
   "source": [
    "import matplotlib.pyplot as plt\n",
    "import seaborn as sns\n",
    "sns.set()"
   ]
  },
  {
   "cell_type": "markdown",
   "id": "f4c0508f-bfbb-4dc0-ab44-6e8d42cfa58c",
   "metadata": {},
   "source": [
    "## Categorical Features\n",
    "We will first take a look at all of our categorical features using a countplot. We will group each countplot by the 'Wheelchair accessible' target variable, so we can visualize the number of venues that are wheelchair accessibly for each feature."
   ]
  },
  {
   "cell_type": "markdown",
   "id": "b645f027-68f6-4391-a66b-466af094aa7f",
   "metadata": {},
   "source": [
    "* Loud music/events\n",
    "This feature describes whether the venue hosts loud events.\n",
    "\n",
    "0 = Does not host loud music/events, 1 = Does host loud music/events"
   ]
  },
  {
   "cell_type": "code",
   "execution_count": null,
   "id": "cd3e9137-9662-49fa-a6ab-068e5e5ac674",
   "metadata": {},
   "outputs": [
    {
     "data": {
      "image/png": "[encoded data removed]",
      "text/plain": [
       "<Figure size 432x288 with 1 Axes>"
      ]
     },
     "metadata": {},
     "output_type": "display_data"
    }
   ],
   "source": [
    "ax1 = sns.countplot(x='Loud music / events', data=df_new, hue='Wheelchair accessible', palette='RdPu')\n",
    "\n",
    "\n",
    "for p in ax1.patches:\n",
    "\tax1.annotate(f'\\n{p.get_height()}', (p.get_x()+0.2, p.get_height()), ha='center', va='top', color='white', size=18)\n",
    "plt.show()"
   ]
  },
  {
   "cell_type": "markdown",
   "id": "d57def4e-3604-4728-9e87-2a772f17ccbe",
   "metadata": {},
   "source": [
    "* Venue provies alchohol\n",
    "This feature describes whether or not the venue serves alcohol.\n",
    "\n",
    "0 = Does not serve alcohol, 1 = Does serve alcohol"
   ]
  },
  {
   "cell_type": "code",
   "execution_count": null,
   "id": "ecf8c920-b6f9-4619-979e-0cffeb03c773",
   "metadata": {},
   "outputs": [
    {
     "data": {
      "image/png": "[encoded data removed]",
      "text/plain": [
       "<Figure size 432x288 with 1 Axes>"
      ]
     },
     "metadata": {},
     "output_type": "display_data"
    }
   ],
   "source": [
    "ax2 = sns.countplot(x='Venue provides alcohol', data=df, hue='Wheelchair accessible', palette='coolwarm')\n",
    "for p in ax2.patches:\n",
    "\tax2.annotate(f'\\n{p.get_height()}', (p.get_x()+0.2, p.get_height()), ha='center', va='top', color='white', size=18)\n",
    "plt.show()"
   ]
  },
  {
   "cell_type": "markdown",
   "id": "3fcc7be3-f8f2-4715-b35a-20fec188f6a0",
   "metadata": {},
   "source": [
    "* Wi-Fi\n",
    "This feature describes whether or not the venue has wi-fi.\n",
    "\n",
    "0 = Does not have wi-fi, 1 = Does have wi-fi"
   ]
  },
  {
   "cell_type": "code",
   "execution_count": null,
   "id": "d4a3f8ab-0328-4ae5-b771-54c83174f1f7",
   "metadata": {},
   "outputs": [
    {
     "data": {
      "image/png": "[encoded data removed]",
      "text/plain": [
       "<Figure size 432x288 with 1 Axes>"
      ]
     },
     "metadata": {},
     "output_type": "display_data"
    }
   ],
   "source": [
    "ax3 = sns.countplot(x='Wi-Fi', data=df_new, hue='Wheelchair accessible',palette='autumn')\n",
    "\n",
    "for p in ax3.patches:\n",
    "\tax3.annotate(f'\\n{p.get_height()}', (p.get_x()+0.2, p.get_height()), ha='center', va='top', color='white', size=18)\n",
    "plt.show()"
   ]
  },
  {
   "cell_type": "code",
   "execution_count": null,
   "id": "4898de05-6134-4916-a20a-b225c64fa433",
   "metadata": {},
   "outputs": [
    {
     "data": {
      "text/plain": [
       "Wi-Fi  Wheelchair accessible\n",
       "0      0                         180\n",
       "       1                          96\n",
       "1      1                        1859\n",
       "       0                        1775\n",
       "Name: Wheelchair accessible, dtype: int64"
      ]
     },
     "execution_count": 88,
     "metadata": {},
     "output_type": "execute_result"
    }
   ],
   "source": [
    "# We are not able to see the number count for group 0 here, so we can check the value counts using the groupby method\n",
    "df_new.groupby('Wi-Fi')['Wheelchair accessible'].value_counts()"
   ]
  },
  {
   "cell_type": "code",
   "execution_count": null,
   "id": "2e8f9e7d-2ef1-4fd7-b8cb-1f89289440cb",
   "metadata": {},
   "outputs": [
    {
     "data": {
      "text/plain": [
       "True     0.929412\n",
       "False    0.070588\n",
       "Name: Wi-Fi, dtype: float64"
      ]
     },
     "execution_count": 89,
     "metadata": {},
     "output_type": "execute_result"
    }
   ],
   "source": [
    "# 93% of the venues have access to wi-fi\n",
    "df['Wi-Fi'].value_counts(normalize=True)"
   ]
  },
  {
   "cell_type": "markdown",
   "id": "ff124c5f-8cf8-40f7-bead-0fb1b7b128df",
   "metadata": {},
   "source": [
    "* supervenue\n",
    "This feature desribes whether or not the venue qualifies as a supervenue. \n",
    "\n",
    "0 = Not a supervenue, 1 = Is a supervenue"
   ]
  },
  {
   "cell_type": "code",
   "execution_count": null,
   "id": "268cc836-5225-413e-bebd-2043262b7ee4",
   "metadata": {},
   "outputs": [
    {
     "data": {
      "image/png": "[encoded data removed]",
      "text/plain": [
       "<Figure size 432x288 with 1 Axes>"
      ]
     },
     "metadata": {},
     "output_type": "display_data"
    }
   ],
   "source": [
    "ax4 = sns.countplot(x='supervenue', data=df_new, hue='Wheelchair accessible', palette='Greens')\n",
    "\n",
    "for p in ax4.patches:\n",
    "\tax4.annotate(f'\\n{p.get_height()}', (p.get_x()+0.2, p.get_height()), ha='center', va='top', color='white', size=18)\n",
    "plt.show()"
   ]
  },
  {
   "cell_type": "code",
   "execution_count": null,
   "id": "2f798f13-7974-42d4-a538-62ff26654dc5",
   "metadata": {},
   "outputs": [
    {
     "data": {
      "text/plain": [
       "supervenue  Wheelchair accessible\n",
       "0           1                        1881\n",
       "            0                        1785\n",
       "1           0                         170\n",
       "            1                          74\n",
       "Name: Wheelchair accessible, dtype: int64"
      ]
     },
     "execution_count": 91,
     "metadata": {},
     "output_type": "execute_result"
    }
   ],
   "source": [
    "# Like wi-fi, we will calculate the count using the groupby method\n",
    "df_new.groupby('supervenue')['Wheelchair accessible'].value_counts()"
   ]
  },
  {
   "cell_type": "code",
   "execution_count": null,
   "id": "d2cb8c55-8fcb-4b3d-a4af-6f48f878a053",
   "metadata": {},
   "outputs": [
    {
     "data": {
      "text/plain": [
       "False    0.937596\n",
       "True     0.062404\n",
       "Name: supervenue, dtype: float64"
      ]
     },
     "execution_count": 92,
     "metadata": {},
     "output_type": "execute_result"
    }
   ],
   "source": [
    "# 93% of the venues are not classified as supervenues\n",
    "df['supervenue'].value_counts(normalize=True)"
   ]
  },
  {
   "cell_type": "markdown",
   "id": "f77f1225-c523-4304-94af-6adb4efcceb2",
   "metadata": {},
   "source": [
    "* Promoted/ticketed events\n",
    "This feature describes whether or not the venue hosts promoted/ticketed events.\n",
    "\n",
    "0 = No promoted/ticketed events, 1 = Yes promoted/ticketed events"
   ]
  },
  {
   "cell_type": "code",
   "execution_count": null,
   "id": "1d8fff78-a3fd-42a2-b6eb-3fb8b63f270a",
   "metadata": {},
   "outputs": [
    {
     "data": {
      "image/png": "[encoded data removed]",
      "text/plain": [
       "<Figure size 432x288 with 1 Axes>"
      ]
     },
     "metadata": {},
     "output_type": "display_data"
    }
   ],
   "source": [
    "ax5 = sns.countplot(x='Promoted / ticketed events', data=df, hue='Wheelchair accessible', palette='cubehelix')\n",
    "\n",
    "for p in ax5.patches:\n",
    "\tax5.annotate(f'\\n{p.get_height()}', (p.get_x()+0.2, p.get_height()), ha='center', va='top', color='white', size=18)\n",
    "plt.show()"
   ]
  },
  {
   "cell_type": "markdown",
   "id": "9ff940a6-ab9d-441e-89bf-51ea2f5520fe",
   "metadata": {},
   "source": [
    "### Observations:\n",
    "* wi-fi: 93% of the venues have acess to wi-fi, so it is expected that this feature will be insignificant. However, we will leave it in the model for now.\n",
    "\n",
    "* Similarly, 93% of the venues are not classified as supervenues, so it is also expected that this feature will also be insignificant.\n",
    "\n",
    "* The rest of the features seem to have a signficiant difference in wheelchair accesibility between groups, so we can expect these features to be important in predicting the target variable."
   ]
  },
  {
   "cell_type": "markdown",
   "id": "2293f9e0-d162-462d-a546-221f371996ca",
   "metadata": {},
   "source": [
    "## Numerical Features\n",
    "\n"
   ]
  },
  {
   "cell_type": "markdown",
   "id": "384c26ed-14d7-4395-b3f6-708fb4845615",
   "metadata": {},
   "source": [
    "* U-Shaped_max describes the maximum capacity of the U-shaped portion of the theatre (if any)\n",
    "* max_standing describes the maximum capacity for people standing in the venue\n",
    "* Theatre_max describes the overall maximum capacity for the theatre\n",
    "\n",
    "We will look at a box-plot for each feature, grouped by our 'Wheelchair accessibly' target feature. We will also show a pairplot to check for any colinear relationships between our features."
   ]
  },
  {
   "cell_type": "code",
   "execution_count": null,
   "id": "4848d80c-4367-44e4-927a-9d2b472dcfec",
   "metadata": {},
   "outputs": [
    {
     "data": {
      "image/png": "[encoded data removed]",
      "text/plain": [
       "<Figure size 1080x288 with 1 Axes>"
      ]
     },
     "metadata": {},
     "output_type": "display_data"
    },
    {
     "data": {
      "image/png": "[encoded data removed]",
      "text/plain": [
       "<Figure size 1080x288 with 1 Axes>"
      ]
     },
     "metadata": {},
     "output_type": "display_data"
    },
    {
     "data": {
      "image/png": "[encoded data removed]",
      "text/plain": [
       "<Figure size 1080x288 with 1 Axes>"
      ]
     },
     "metadata": {},
     "output_type": "display_data"
    }
   ],
   "source": [
    "num_df = ['U-Shaped_max', 'max_standing', 'Theatre_max']\n",
    "\n",
    "for col in num_df:\n",
    "    plt.figure(figsize=(15,4))\n",
    "    sns.boxplot(data=df_new, x=col, y='Wheelchair accessible', orient='h', palette='Set2')\n",
    "    title = col + ' by Wheelchair accessible'\n",
    "    plt.title(title)\n",
    "    plt.grid()"
   ]
  },
  {
   "cell_type": "code",
   "execution_count": null,
   "id": "7a75fe98-7ecd-4f0a-bb79-9f06620bf396",
   "metadata": {},
   "outputs": [
    {
     "data": {
      "text/plain": [
       "<seaborn.axisgrid.PairGrid at 0x7f466155df40>"
      ]
     },
     "execution_count": 95,
     "metadata": {},
     "output_type": "execute_result"
    },
    {
     "data": {
      "image/png": "[encoded data removed]",
      "text/plain": [
       "<Figure size 540x540 with 12 Axes>"
      ]
     },
     "metadata": {},
     "output_type": "display_data"
    }
   ],
   "source": [
    "sns.pairplot(df_new[num_df])"
   ]
  },
  {
   "cell_type": "markdown",
   "id": "057188da-397d-4034-a864-d4194dda15f8",
   "metadata": {},
   "source": [
    "## Observations:\n",
    "\n",
    "* The boxplots show that visually there isn't a significant difference in wheelchair accesibility based on the U-shaped max, but there is a bigger difference for max_stand and Theatre_max.\n",
    "* We can also note that it looks like the majority of the venues are on the smaller side with max capacities less than 500, but there are some outliers there.\n",
    "* There are no major colinear relationships between our variables, so any classfications models sensitive to collinearity are okay to use."
   ]
  },
  {
   "cell_type": "markdown",
   "id": "707befbe-1754-438b-bf7a-c8520ce04ed3",
   "metadata": {},
   "source": [
    "# Model Development"
   ]
  },
  {
   "cell_type": "code",
   "execution_count": null,
   "id": "42460fd3-8fa7-4692-afb8-30a47da560b6",
   "metadata": {},
   "outputs": [],
   "source": [
    "# We will start by creating our features and target variables\n",
    "X = df_new.drop('Wheelchair accessible', axis=1)\n",
    "y = df_new['Wheelchair accessible']"
   ]
  },
  {
   "cell_type": "code",
   "execution_count": null,
   "id": "47b25465-d9d8-42ee-bab3-863994cd8061",
   "metadata": {},
   "outputs": [],
   "source": [
    "# It is always good practice to standardize the data, although it isn't always neccesary for certain models.\n",
    "from sklearn.preprocessing import StandardScaler\n",
    "\n",
    "sc = StandardScaler()\n",
    "X_scaled = sc.fit_transform(X)"
   ]
  },
  {
   "cell_type": "code",
   "execution_count": null,
   "id": "179cd1f5-2f23-4ecc-b7c7-34db88518a72",
   "metadata": {},
   "outputs": [],
   "source": [
    "# Create the train and test data\n",
    "from sklearn.model_selection import train_test_split\n",
    "\n",
    "X_train, X_test, y_train, y_test = train_test_split(X_scaled, y, test_size=0.2, random_state=42)"
   ]
  },
  {
   "cell_type": "code",
   "execution_count": null,
   "id": "4924524b-1143-452b-bf6a-2800e48bd742",
   "metadata": {},
   "outputs": [
    {
     "name": "stdout",
     "output_type": "stream",
     "text": [
      "(3128, 8)\n",
      "(3128,)\n",
      "(782, 8)\n",
      "(782,)\n"
     ]
    }
   ],
   "source": [
    "# Check the shape to verify the size of each set\n",
    "print(X_train.shape)\n",
    "print(y_train.shape)\n",
    "print(X_test.shape)\n",
    "print(y_test.shape)"
   ]
  },
  {
   "cell_type": "markdown",
   "id": "93c3e789-e4cd-45e3-bd93-5d62c5826a52",
   "metadata": {},
   "source": [
    "## Plan for Model\n",
    "We will be creating a pipeline of several models with default hyperparamters just to get an idea of how each one performs with this data. From there we will choose a model to tune to increase our classification accuracy."
   ]
  },
  {
   "cell_type": "code",
   "execution_count": null,
   "id": "c8553155-ac28-4136-9977-f72b65c64b76",
   "metadata": {},
   "outputs": [],
   "source": [
    "# Create a pipeline of classification models to get an idea of which will have the highest predictive accuracy\n",
    "from sklearn.linear_model import LogisticRegression\n",
    "from sklearn.svm import SVC\n",
    "from sklearn.neighbors import KNeighborsClassifier\n",
    "from sklearn.tree import DecisionTreeClassifier\n",
    "from sklearn.ensemble import RandomForestClassifier\n",
    "from sklearn.naive_bayes import GaussianNB\n",
    "\n",
    "model_pipeline = []\n",
    "model_pipeline.append(LogisticRegression())\n",
    "model_pipeline.append(SVC())\n",
    "model_pipeline.append(KNeighborsClassifier())\n",
    "model_pipeline.append(DecisionTreeClassifier())\n",
    "model_pipeline.append(RandomForestClassifier())\n",
    "model_pipeline.append(GaussianNB())"
   ]
  },
  {
   "cell_type": "markdown",
   "id": "758df8ee-88da-4916-9db9-b6a9d1820456",
   "metadata": {},
   "source": [
    "## Checking for Accuracy"
   ]
  },
  {
   "cell_type": "code",
   "execution_count": null,
   "id": "eae93646-c2d4-4769-b3d7-42908d03672d",
   "metadata": {},
   "outputs": [],
   "source": [
    "from sklearn import metrics\n",
    "from sklearn.metrics import accuracy_score\n",
    "from sklearn.metrics import classification_report\n",
    "from sklearn.metrics import confusion_matrix\n",
    "from sklearn.metrics import roc_auc_score"
   ]
  },
  {
   "cell_type": "code",
   "execution_count": null,
   "id": "549fa38d-33a5-422a-b0da-8e3c0bef0532",
   "metadata": {},
   "outputs": [],
   "source": [
    "# Create a for-loop to check the accuracy for each model\n",
    "model_list = ['Logistic Regression', 'SVM', 'KNN', 'Decision Tree', 'Random Forest', 'Naive Bayes']\n",
    "acc_list = []\n",
    "auc_list = []\n",
    "cm_list = []\n",
    "\n",
    "for model in model_pipeline:\n",
    "    model.fit(X_train, y_train)\n",
    "    y_pred = model.predict(X_test)\n",
    "    acc_list.append(accuracy_score(y_test,y_pred))\n",
    "    fpr, tpr, _thresholds = metrics.roc_curve(y_test, y_pred)\n",
    "    auc_list.append(round(metrics.auc(fpr,tpr),2))\n",
    "    cm_list.append(confusion_matrix(y_test,y_pred))"
   ]
  },
  {
   "cell_type": "code",
   "execution_count": null,
   "id": "0484e9e6-33c7-4a41-aa39-ba58088508c0",
   "metadata": {},
   "outputs": [
    {
     "data": {
      "image/png": "[encoded data removed]",
      "text/plain": [
       "<Figure size 1296x720 with 12 Axes>"
      ]
     },
     "metadata": {},
     "output_type": "display_data"
    }
   ],
   "source": [
    "# Heatmap to visualize the confusion matrices\n",
    "fig = plt.figure(figsize=(18,10))\n",
    "for i in range(len(cm_list)):\n",
    "    cm = cm_list[i]\n",
    "    model = model_list[i]\n",
    "    sub = fig.add_subplot(2, 3, i+1).set_title(model)\n",
    "    cm_plot = sns.heatmap(cm, annot=True,cmap='Blues_r', fmt='g')\n",
    "    cm_plot.set_xlabel('Predicted Values')\n",
    "    cm_plot.set_ylabel('Actual Values')"
   ]
  },
  {
   "cell_type": "code",
   "execution_count": null,
   "id": "b9cd2a36-4d35-4965-909f-99ea5b67e7e0",
   "metadata": {},
   "outputs": [],
   "source": [
    "# Create a dataframe to view the accuracy for each model in an organized fashion\n",
    "result_df = pd.DataFrame({'Model':model_list,\n",
    "                         'Accuracy':acc_list,\n",
    "                         'AUC':auc_list})"
   ]
  },
  {
   "cell_type": "code",
   "execution_count": null,
   "id": "74989073-cbaf-42e6-adb2-adfc0b2155be",
   "metadata": {},
   "outputs": [
    {
     "data": {
      "application/com.datacamp.data-table.v1+json": {
       "is_truncated": false,
       "table": {
        "data": [
         {
          "AUC": 0.61,
          "Accuracy": 0.6125319693,
          "Model": "Logistic Regression",
          "index": 0
         },
         {
          "AUC": 0.62,
          "Accuracy": 0.6189258312,
          "Model": "SVM",
          "index": 1
         },
         {
          "AUC": 0.64,
          "Accuracy": 0.6381074169,
          "Model": "KNN",
          "index": 2
         },
         {
          "AUC": 0.63,
          "Accuracy": 0.6355498721,
          "Model": "Decision Tree",
          "index": 3
         },
         {
          "AUC": 0.66,
          "Accuracy": 0.6572890026,
          "Model": "Random Forest",
          "index": 4
         },
         {
          "AUC": 0.55,
          "Accuracy": 0.5703324808,
          "Model": "Naive Bayes",
          "index": 5
         }
        ],
        "schema": {
         "fields": [
          {
           "name": "index",
           "type": "integer"
          },
          {
           "name": "Model",
           "type": "string"
          },
          {
           "name": "Accuracy",
           "type": "number"
          },
          {
           "name": "AUC",
           "type": "number"
          }
         ],
         "pandas_version": "0.20.0",
         "primaryKey": [
          "index"
         ]
        }
       },
       "total_rows": 6
      },
      "text/html": [
       "<div>\n",
       "<style scoped>\n",
       "    .dataframe tbody tr th:only-of-type {\n",
       "        vertical-align: middle;\n",
       "    }\n",
       "\n",
       "    .dataframe tbody tr th {\n",
       "        vertical-align: top;\n",
       "    }\n",
       "\n",
       "    .dataframe thead th {\n",
       "        text-align: right;\n",
       "    }\n",
       "</style>\n",
       "<table border=\"1\" class=\"dataframe\">\n",
       "  <thead>\n",
       "    <tr style=\"text-align: right;\">\n",
       "      <th></th>\n",
       "      <th>Model</th>\n",
       "      <th>Accuracy</th>\n",
       "      <th>AUC</th>\n",
       "    </tr>\n",
       "  </thead>\n",
       "  <tbody>\n",
       "    <tr>\n",
       "      <th>0</th>\n",
       "      <td>Logistic Regression</td>\n",
       "      <td>0.612532</td>\n",
       "      <td>0.61</td>\n",
       "    </tr>\n",
       "    <tr>\n",
       "      <th>1</th>\n",
       "      <td>SVM</td>\n",
       "      <td>0.618926</td>\n",
       "      <td>0.62</td>\n",
       "    </tr>\n",
       "    <tr>\n",
       "      <th>2</th>\n",
       "      <td>KNN</td>\n",
       "      <td>0.638107</td>\n",
       "      <td>0.64</td>\n",
       "    </tr>\n",
       "    <tr>\n",
       "      <th>3</th>\n",
       "      <td>Decision Tree</td>\n",
       "      <td>0.635550</td>\n",
       "      <td>0.63</td>\n",
       "    </tr>\n",
       "    <tr>\n",
       "      <th>4</th>\n",
       "      <td>Random Forest</td>\n",
       "      <td>0.657289</td>\n",
       "      <td>0.66</td>\n",
       "    </tr>\n",
       "    <tr>\n",
       "      <th>5</th>\n",
       "      <td>Naive Bayes</td>\n",
       "      <td>0.570332</td>\n",
       "      <td>0.55</td>\n",
       "    </tr>\n",
       "  </tbody>\n",
       "</table>\n",
       "</div>"
      ],
      "text/plain": [
       "                 Model  Accuracy   AUC\n",
       "0  Logistic Regression  0.612532  0.61\n",
       "1                  SVM  0.618926  0.62\n",
       "2                  KNN  0.638107  0.64\n",
       "3        Decision Tree  0.635550  0.63\n",
       "4        Random Forest  0.657289  0.66\n",
       "5          Naive Bayes  0.570332  0.55"
      ]
     },
     "execution_count": 105,
     "metadata": {},
     "output_type": "execute_result"
    }
   ],
   "source": [
    "result_df"
   ]
  },
  {
   "cell_type": "markdown",
   "id": "29d3f4c3-b22c-43e6-866b-5fe0c8c37854",
   "metadata": {},
   "source": [
    "### Initial Results:\n",
    "From our results dataframe we can see that the Random Forest performed the best here. It is important to keep in mind that this does not neccesarily mean that the other models are insignificant, but only that it performed the best with the default hyperparameters and with the data in its current form. \n",
    "\n",
    "We will now try to tune the random forest model to try and optimize our results.\n",
    "\n",
    "The random forest model is ideal since it is a nonparametric machine learning algorithm. It is not weak to outliers and there are no data assumptions that need to be met, like normality or collinearity. So lets jump right in and see if we can tweak this model."
   ]
  },
  {
   "cell_type": "code",
   "execution_count": null,
   "id": "0e975924-05d5-43e2-afbe-b811e4e21463",
   "metadata": {},
   "outputs": [
    {
     "data": {
      "text/plain": [
       "<AxesSubplot:>"
      ]
     },
     "execution_count": 114,
     "metadata": {},
     "output_type": "execute_result"
    },
    {
     "data": {
      "image/png": "[encoded data removed]",
      "text/plain": [
       "<Figure size 432x288 with 1 Axes>"
      ]
     },
     "metadata": {},
     "output_type": "display_data"
    }
   ],
   "source": [
    "# First, let's take a look at the feature importane calculated by the random forest model.\n",
    "forest = RandomForestClassifier()\n",
    "forest.fit(X_train, y_train)\n",
    "\n",
    "features = pd.Series(forest.feature_importances_, index=X.columns)\n",
    "features = features.sort_values()\n",
    "features.plot(kind='barh')"
   ]
  },
  {
   "cell_type": "markdown",
   "id": "d030c5b9-d4e5-4cce-be98-918c1e162ac8",
   "metadata": {},
   "source": [
    "## Observations:\n",
    "As predicted in our EDA, Wi-Fi and supervenue are the least important features. It may not be neccesary, but to simplify the model we will remove them before tuning the hyperparameters"
   ]
  },
  {
   "cell_type": "code",
   "execution_count": null,
   "id": "d31853fc-7cea-43ed-b241-26f65f50f617",
   "metadata": {},
   "outputs": [
    {
     "name": "stdout",
     "output_type": "stream",
     "text": [
      "0.6317135549872123\n"
     ]
    }
   ],
   "source": [
    "# Let's try to run the random forest model without the 'Wi-Fi' and 'supervenue' features.\n",
    "\n",
    "X_new = X.drop(['Wi-Fi','supervenue'], axis=1)\n",
    "X_new_scaled = sc.fit_transform(X_new)\n",
    "X_train_new, X_test_new, y_train_new, y_test_new = train_test_split(X_new_scaled, y, test_size=0.2, random_state=42)\n",
    "rf = RandomForestClassifier(random_state=42)\n",
    "rf.fit(X_train_new,y_train_new)\n",
    "rf_pred = rf.predict(X_test_new)\n",
    "print(accuracy_score(y_test_new,rf_pred))"
   ]
  },
  {
   "cell_type": "code",
   "execution_count": null,
   "id": "b5a81f67-b29e-476c-a094-a9e1b2becba1",
   "metadata": {},
   "outputs": [],
   "source": [
    "# The reduced model 63.2% accuracy, while our full model gave us 65.7%. The accuracy decreased by 2.5%, but we will keep this reduced model and try using RandomizedSearchCV for hyperparameter tuning and cross validation.\n",
    "\n",
    "from sklearn.model_selection import RandomizedSearchCV\n",
    "# Number of trees in random forest\n",
    "n_estimators = [int(x) for x in np.linspace(start = 200, stop = 2000, num = 10)]\n",
    "# Number of features to consider at every split\n",
    "max_features = ['auto', 'sqrt']\n",
    "# Maximum number of levels in tree\n",
    "max_depth = [int(x) for x in np.linspace(10, 110, num = 11)]\n",
    "max_depth.append(None)\n",
    "# Minimum number of samples required to split a node\n",
    "min_samples_split = [2, 5, 10]\n",
    "# Minimum number of samples required at each leaf node\n",
    "min_samples_leaf = [1, 2, 4]\n",
    "# Method of selecting samples for training each tree\n",
    "bootstrap = [True, False]\n",
    "# Create the random grid\n",
    "random_grid = {'n_estimators': n_estimators,\n",
    "               'max_features': max_features,\n",
    "               'max_depth': max_depth,\n",
    "               'min_samples_split': min_samples_split,\n",
    "               'min_samples_leaf': min_samples_leaf,\n",
    "               'bootstrap': bootstrap}"
   ]
  },
  {
   "cell_type": "code",
   "execution_count": null,
   "id": "49e02293-2f80-4185-a374-e3dbaba10bc7",
   "metadata": {},
   "outputs": [
    {
     "name": "stdout",
     "output_type": "stream",
     "text": [
      "Fitting 3 folds for each of 100 candidates, totalling 300 fits\n",
      "[CV] END bootstrap=True, max_depth=30, max_features=sqrt, min_samples_leaf=1, min_samples_split=5, n_estimators=400; total time=   0.9s\n",
      "[CV] END bootstrap=True, max_depth=30, max_features=sqrt, min_samples_leaf=1, min_samples_split=5, n_estimators=400; total time=   0.9s\n",
      "[CV] END bootstrap=True, max_depth=10, max_features=sqrt, min_samples_leaf=1, min_samples_split=5, n_estimators=2000; total time=   4.0s\n",
      "[CV] END bootstrap=False, max_depth=10, max_features=sqrt, min_samples_leaf=2, min_samples_split=5, n_estimators=1200; total time=   2.3s\n",
      "[CV] END bootstrap=False, max_depth=10, max_features=sqrt, min_samples_leaf=2, min_samples_split=5, n_estimators=1200; total time=   2.2s\n",
      "[CV] END bootstrap=False, max_depth=30, max_features=auto, min_samples_leaf=4, min_samples_split=2, n_estimators=2000; total time=   3.8s\n",
      "[CV] END bootstrap=False, max_depth=30, max_features=auto, min_samples_leaf=4, min_samples_split=2, n_estimators=2000; total time=   3.9s\n",
      "[CV] END bootstrap=True, max_depth=10, max_features=sqrt, min_samples_leaf=4, min_samples_split=2, n_estimators=1600; total time=   3.0s\n",
      "[CV] END bootstrap=False, max_depth=30, max_features=sqrt, min_samples_leaf=4, min_samples_split=5, n_estimators=800; total time=   1.5s\n",
      "[CV] END bootstrap=False, max_depth=30, max_features=sqrt, min_samples_leaf=4, min_samples_split=5, n_estimators=800; total time=   1.5s\n",
      "[CV] END bootstrap=False, max_depth=100, max_features=sqrt, min_samples_leaf=2, min_samples_split=5, n_estimators=1000; total time=   2.1s\n",
      "[CV] END bootstrap=False, max_depth=60, max_features=sqrt, min_samples_leaf=1, min_samples_split=5, n_estimators=600; total time=   1.5s\n",
      "[CV] END bootstrap=False, max_depth=60, max_features=sqrt, min_samples_leaf=1, min_samples_split=5, n_estimators=600; total time=   1.5s\n",
      "[CV] END bootstrap=False, max_depth=50, max_features=auto, min_samples_leaf=1, min_samples_split=2, n_estimators=1000; total time=   2.6s\n",
      "[CV] END bootstrap=False, max_depth=10, max_features=auto, min_samples_leaf=4, min_samples_split=5, n_estimators=1800; total time=   3.1s\n",
      "[CV] END bootstrap=False, max_depth=10, max_features=auto, min_samples_leaf=4, min_samples_split=5, n_estimators=1800; total time=   3.2s\n",
      "[CV] END bootstrap=True, max_depth=70, max_features=auto, min_samples_leaf=4, min_samples_split=10, n_estimators=400; total time=   0.8s\n",
      "[CV] END bootstrap=False, max_depth=90, max_features=sqrt, min_samples_leaf=1, min_samples_split=5, n_estimators=800; total time=   2.0s\n",
      "[CV] END bootstrap=False, max_depth=10, max_features=sqrt, min_samples_leaf=1, min_samples_split=10, n_estimators=2000; total time=   3.7s\n",
      "[CV] END bootstrap=False, max_depth=10, max_features=sqrt, min_samples_leaf=1, min_samples_split=10, n_estimators=2000; total time=   3.8s\n",
      "[CV] END bootstrap=False, max_depth=10, max_features=sqrt, min_samples_leaf=2, min_samples_split=5, n_estimators=1600; total time=   3.0s\n",
      "[CV] END bootstrap=False, max_depth=30, max_features=sqrt, min_samples_leaf=2, min_samples_split=10, n_estimators=800; total time=   1.6s\n",
      "[CV] END bootstrap=False, max_depth=30, max_features=sqrt, min_samples_leaf=2, min_samples_split=10, n_estimators=800; total time=   1.6s\n",
      "[CV] END bootstrap=False, max_depth=50, max_features=auto, min_samples_leaf=4, min_samples_split=2, n_estimators=1800; total time=   3.5s\n",
      "[CV] END bootstrap=False, max_depth=70, max_features=auto, min_samples_leaf=2, min_samples_split=5, n_estimators=600; total time=   1.3s\n",
      "[CV] END bootstrap=False, max_depth=70, max_features=auto, min_samples_leaf=2, min_samples_split=5, n_estimators=600; total time=   1.3s\n",
      "[CV] END bootstrap=True, max_depth=20, max_features=sqrt, min_samples_leaf=1, min_samples_split=2, n_estimators=1000; total time=   2.3s\n",
      "[CV] END bootstrap=True, max_depth=20, max_features=sqrt, min_samples_leaf=1, min_samples_split=2, n_estimators=1000; total time=   2.3s\n",
      "[CV] END bootstrap=False, max_depth=110, max_features=auto, min_samples_leaf=2, min_samples_split=10, n_estimators=1800; total time=   3.7s\n",
      "[CV] END bootstrap=True, max_depth=80, max_features=auto, min_samples_leaf=1, min_samples_split=5, n_estimators=600; total time=   1.4s\n",
      "[CV] END bootstrap=True, max_depth=80, max_features=auto, min_samples_leaf=1, min_samples_split=5, n_estimators=600; total time=   1.4s\n",
      "[CV] END bootstrap=False, max_depth=30, max_features=sqrt, min_samples_leaf=1, min_samples_split=10, n_estimators=1800; total time=   4.1s\n",
      "[CV] END bootstrap=False, max_depth=30, max_features=sqrt, min_samples_leaf=1, min_samples_split=10, n_estimators=1800; total time=   4.3s\n",
      "[CV] END bootstrap=False, max_depth=70, max_features=sqrt, min_samples_leaf=1, min_samples_split=5, n_estimators=1600; total time=   3.9s\n",
      "[CV] END bootstrap=True, max_depth=80, max_features=sqrt, min_samples_leaf=4, min_samples_split=5, n_estimators=1400; total time=   2.8s\n",
      "[CV] END bootstrap=True, max_depth=80, max_features=sqrt, min_samples_leaf=4, min_samples_split=5, n_estimators=1400; total time=   2.7s\n",
      "[CV] END bootstrap=True, max_depth=None, max_features=auto, min_samples_leaf=2, min_samples_split=2, n_estimators=1800; total time=   3.8s\n",
      "[CV] END bootstrap=False, max_depth=80, max_features=sqrt, min_samples_leaf=1, min_samples_split=5, n_estimators=1400; total time=   3.5s\n",
      "[CV] END bootstrap=False, max_depth=80, max_features=sqrt, min_samples_leaf=1, min_samples_split=5, n_estimators=1400; total time=   3.5s\n",
      "[CV] END bootstrap=False, max_depth=None, max_features=sqrt, min_samples_leaf=1, min_samples_split=2, n_estimators=400; total time=   1.0s\n",
      "[CV] END bootstrap=False, max_depth=40, max_features=auto, min_samples_leaf=1, min_samples_split=2, n_estimators=1400; total time=   3.6s\n",
      "[CV] END bootstrap=True, max_depth=20, max_features=sqrt, min_samples_leaf=2, min_samples_split=5, n_estimators=1000; total time=   2.1s\n",
      "[CV] END bootstrap=True, max_depth=20, max_features=sqrt, min_samples_leaf=2, min_samples_split=5, n_estimators=1000; total time=   2.1s\n",
      "[CV] END bootstrap=False, max_depth=100, max_features=auto, min_samples_leaf=4, min_samples_split=10, n_estimators=2000; total time=   3.8s\n",
      "[CV] END bootstrap=False, max_depth=100, max_features=auto, min_samples_leaf=4, min_samples_split=10, n_estimators=2000; total time=   3.9s\n",
      "[CV] END bootstrap=True, max_depth=20, max_features=sqrt, min_samples_leaf=2, min_samples_split=2, n_estimators=1200; total time=   2.5s\n",
      "[CV] END bootstrap=False, max_depth=20, max_features=sqrt, min_samples_leaf=4, min_samples_split=10, n_estimators=1200; total time=   2.3s\n",
      "[CV] END bootstrap=False, max_depth=50, max_features=sqrt, min_samples_leaf=2, min_samples_split=2, n_estimators=800; total time=   1.7s\n",
      "[CV] END bootstrap=False, max_depth=50, max_features=sqrt, min_samples_leaf=2, min_samples_split=2, n_estimators=800; total time=   1.7s\n",
      "[CV] END bootstrap=False, max_depth=100, max_features=sqrt, min_samples_leaf=1, min_samples_split=5, n_estimators=800; total time=   2.0s\n",
      "[CV] END bootstrap=False, max_depth=100, max_features=sqrt, min_samples_leaf=1, min_samples_split=5, n_estimators=800; total time=   2.0s\n",
      "[CV] END bootstrap=True, max_depth=50, max_features=sqrt, min_samples_leaf=4, min_samples_split=10, n_estimators=800; total time=   1.6s\n",
      "[CV] END bootstrap=True, max_depth=90, max_features=sqrt, min_samples_leaf=4, min_samples_split=2, n_estimators=1800; total time=   3.4s\n",
      "[CV] END bootstrap=True, max_depth=90, max_features=sqrt, min_samples_leaf=4, min_samples_split=2, n_estimators=1800; total time=   3.5s\n",
      "[CV] END bootstrap=True, max_depth=20, max_features=sqrt, min_samples_leaf=2, min_samples_split=5, n_estimators=1200; total time=   2.5s\n",
      "[CV] END bootstrap=True, max_depth=20, max_features=sqrt, min_samples_leaf=2, min_samples_split=5, n_estimators=1200; total time=   2.5s\n",
      "[CV] END bootstrap=True, max_depth=100, max_features=auto, min_samples_leaf=1, min_samples_split=2, n_estimators=800; total time=   1.9s\n",
      "[CV] END bootstrap=True, max_depth=None, max_features=auto, min_samples_leaf=2, min_samples_split=5, n_estimators=800; total time=   1.8s\n",
      "[CV] END bootstrap=True, max_depth=None, max_features=auto, min_samples_leaf=2, min_samples_split=5, n_estimators=800; total time=   1.7s\n",
      "[CV] END bootstrap=True, max_depth=30, max_features=sqrt, min_samples_leaf=1, min_samples_split=5, n_estimators=400; total time=   0.9s\n",
      "[CV] END bootstrap=True, max_depth=10, max_features=sqrt, min_samples_leaf=1, min_samples_split=5, n_estimators=2000; total time=   4.0s\n",
      "[CV] END bootstrap=True, max_depth=10, max_features=sqrt, min_samples_leaf=1, min_samples_split=5, n_estimators=2000; total time=   4.0s\n",
      "[CV] END bootstrap=False, max_depth=10, max_features=sqrt, min_samples_leaf=2, min_samples_split=5, n_estimators=1200; total time=   2.3s\n",
      "[CV] END bootstrap=False, max_depth=30, max_features=auto, min_samples_leaf=4, min_samples_split=2, n_estimators=2000; total time=   3.8s\n",
      "[CV] END bootstrap=True, max_depth=10, max_features=sqrt, min_samples_leaf=4, min_samples_split=2, n_estimators=1600; total time=   3.0s\n",
      "[CV] END bootstrap=True, max_depth=10, max_features=sqrt, min_samples_leaf=4, min_samples_split=2, n_estimators=1600; total time=   3.0s\n",
      "[CV] END bootstrap=False, max_depth=30, max_features=sqrt, min_samples_leaf=4, min_samples_split=5, n_estimators=800; total time=   1.5s\n",
      "[CV] END bootstrap=False, max_depth=100, max_features=sqrt, min_samples_leaf=2, min_samples_split=5, n_estimators=1000; total time=   2.1s\n",
      "[CV] END bootstrap=False, max_depth=100, max_features=sqrt, min_samples_leaf=2, min_samples_split=5, n_estimators=1000; total time=   2.1s\n",
      "[CV] END bootstrap=False, max_depth=60, max_features=sqrt, min_samples_leaf=1, min_samples_split=5, n_estimators=600; total time=   1.5s\n",
      "[CV] END bootstrap=False, max_depth=50, max_features=auto, min_samples_leaf=1, min_samples_split=2, n_estimators=1000; total time=   2.6s\n",
      "[CV] END bootstrap=False, max_depth=50, max_features=auto, min_samples_leaf=1, min_samples_split=2, n_estimators=1000; total time=   2.6s\n",
      "[CV] END bootstrap=False, max_depth=10, max_features=auto, min_samples_leaf=4, min_samples_split=5, n_estimators=1800; total time=   3.2s\n",
      "[CV] END bootstrap=True, max_depth=70, max_features=auto, min_samples_leaf=4, min_samples_split=10, n_estimators=400; total time=   0.8s\n",
      "[CV] END bootstrap=True, max_depth=70, max_features=auto, min_samples_leaf=4, min_samples_split=10, n_estimators=400; total time=   0.8s\n",
      "[CV] END bootstrap=False, max_depth=90, max_features=sqrt, min_samples_leaf=1, min_samples_split=5, n_estimators=800; total time=   2.0s\n",
      "[CV] END bootstrap=False, max_depth=90, max_features=sqrt, min_samples_leaf=1, min_samples_split=5, n_estimators=800; total time=   2.0s\n",
      "[CV] END bootstrap=False, max_depth=10, max_features=sqrt, min_samples_leaf=1, min_samples_split=10, n_estimators=2000; total time=   3.7s\n",
      "[CV] END bootstrap=False, max_depth=10, max_features=sqrt, min_samples_leaf=2, min_samples_split=5, n_estimators=1600; total time=   3.0s\n",
      "[CV] END bootstrap=False, max_depth=10, max_features=sqrt, min_samples_leaf=2, min_samples_split=5, n_estimators=1600; total time=   3.0s\n",
      "[CV] END bootstrap=False, max_depth=30, max_features=sqrt, min_samples_leaf=2, min_samples_split=10, n_estimators=800; total time=   1.6s\n",
      "[CV] END bootstrap=False, max_depth=50, max_features=auto, min_samples_leaf=4, min_samples_split=2, n_estimators=1800; total time=   3.5s\n",
      "[CV] END bootstrap=False, max_depth=50, max_features=auto, min_samples_leaf=4, min_samples_split=2, n_estimators=1800; total time=   3.5s\n",
      "[CV] END bootstrap=False, max_depth=70, max_features=auto, min_samples_leaf=2, min_samples_split=5, n_estimators=600; total time=   1.3s\n",
      "[CV] END bootstrap=True, max_depth=20, max_features=sqrt, min_samples_leaf=1, min_samples_split=2, n_estimators=1000; total time=   2.4s\n",
      "[CV] END bootstrap=False, max_depth=110, max_features=auto, min_samples_leaf=2, min_samples_split=10, n_estimators=1800; total time=   3.7s\n",
      "[CV] END bootstrap=False, max_depth=110, max_features=auto, min_samples_leaf=2, min_samples_split=10, n_estimators=1800; total time=   3.7s\n",
      "[CV] END bootstrap=True, max_depth=80, max_features=auto, min_samples_leaf=1, min_samples_split=5, n_estimators=600; total time=   1.4s\n",
      "[CV] END bootstrap=False, max_depth=30, max_features=sqrt, min_samples_leaf=1, min_samples_split=10, n_estimators=1800; total time=   4.2s\n",
      "[CV] END bootstrap=False, max_depth=70, max_features=sqrt, min_samples_leaf=1, min_samples_split=5, n_estimators=1600; total time=   3.9s\n",
      "[CV] END bootstrap=False, max_depth=70, max_features=sqrt, min_samples_leaf=1, min_samples_split=5, n_estimators=1600; total time=   3.9s\n",
      "[CV] END bootstrap=True, max_depth=80, max_features=sqrt, min_samples_leaf=4, min_samples_split=5, n_estimators=1400; total time=   2.8s\n",
      "[CV] END bootstrap=True, max_depth=None, max_features=auto, min_samples_leaf=2, min_samples_split=2, n_estimators=1800; total time=   3.8s\n",
      "[CV] END bootstrap=True, max_depth=None, max_features=auto, min_samples_leaf=2, min_samples_split=2, n_estimators=1800; total time=   3.8s\n",
      "[CV] END bootstrap=False, max_depth=80, max_features=sqrt, min_samples_leaf=1, min_samples_split=5, n_estimators=1400; total time=   3.5s\n",
      "[CV] END bootstrap=False, max_depth=None, max_features=sqrt, min_samples_leaf=1, min_samples_split=2, n_estimators=400; total time=   1.0s\n",
      "[CV] END bootstrap=False, max_depth=None, max_features=sqrt, min_samples_leaf=1, min_samples_split=2, n_estimators=400; total time=   1.0s\n",
      "[CV] END bootstrap=False, max_depth=40, max_features=auto, min_samples_leaf=1, min_samples_split=2, n_estimators=1400; total time=   3.6s\n",
      "[CV] END bootstrap=False, max_depth=40, max_features=auto, min_samples_leaf=1, min_samples_split=2, n_estimators=1400; total time=   3.8s\n",
      "[CV] END bootstrap=True, max_depth=20, max_features=sqrt, min_samples_leaf=2, min_samples_split=5, n_estimators=1000; total time=   2.1s\n",
      "[CV] END bootstrap=False, max_depth=100, max_features=auto, min_samples_leaf=4, min_samples_split=10, n_estimators=2000; total time=   3.8s\n",
      "[CV] END bootstrap=True, max_depth=20, max_features=sqrt, min_samples_leaf=2, min_samples_split=2, n_estimators=1200; total time=   2.6s\n",
      "[CV] END bootstrap=True, max_depth=20, max_features=sqrt, min_samples_leaf=2, min_samples_split=2, n_estimators=1200; total time=   2.5s\n",
      "[CV] END bootstrap=False, max_depth=20, max_features=sqrt, min_samples_leaf=4, min_samples_split=10, n_estimators=1200; total time=   2.2s\n",
      "[CV] END bootstrap=False, max_depth=20, max_features=sqrt, min_samples_leaf=4, min_samples_split=10, n_estimators=1200; total time=   2.3s\n",
      "[CV] END bootstrap=False, max_depth=50, max_features=sqrt, min_samples_leaf=2, min_samples_split=2, n_estimators=800; total time=   1.7s\n",
      "[CV] END bootstrap=False, max_depth=100, max_features=sqrt, min_samples_leaf=1, min_samples_split=5, n_estimators=800; total time=   2.0s\n",
      "[CV] END bootstrap=True, max_depth=50, max_features=sqrt, min_samples_leaf=4, min_samples_split=10, n_estimators=800; total time=   1.5s\n",
      "[CV] END bootstrap=True, max_depth=50, max_features=sqrt, min_samples_leaf=4, min_samples_split=10, n_estimators=800; total time=   1.6s\n",
      "[CV] END bootstrap=True, max_depth=90, max_features=sqrt, min_samples_leaf=4, min_samples_split=2, n_estimators=1800; total time=   3.4s\n",
      "[CV] END bootstrap=False, max_depth=20, max_features=sqrt, min_samples_leaf=2, min_samples_split=10, n_estimators=800; total time=   1.6s\n",
      "[CV] END bootstrap=False, max_depth=20, max_features=sqrt, min_samples_leaf=2, min_samples_split=10, n_estimators=800; total time=   1.7s\n",
      "[CV] END bootstrap=False, max_depth=20, max_features=sqrt, min_samples_leaf=2, min_samples_split=10, n_estimators=800; total time=   1.7s\n",
      "[CV] END bootstrap=True, max_depth=20, max_features=sqrt, min_samples_leaf=2, min_samples_split=5, n_estimators=1200; total time=   2.5s\n",
      "[CV] END bootstrap=True, max_depth=100, max_features=auto, min_samples_leaf=1, min_samples_split=2, n_estimators=800; total time=   1.9s\n",
      "[CV] END bootstrap=True, max_depth=100, max_features=auto, min_samples_leaf=1, min_samples_split=2, n_estimators=800; total time=   1.9s\n",
      "[CV] END bootstrap=True, max_depth=None, max_features=auto, min_samples_leaf=2, min_samples_split=5, n_estimators=800; total time=   1.7s\n",
      "[CV] END bootstrap=True, max_depth=60, max_features=sqrt, min_samples_leaf=2, min_samples_split=2, n_estimators=1000; total time=   2.1s\n",
      "[CV] END bootstrap=True, max_depth=60, max_features=sqrt, min_samples_leaf=2, min_samples_split=2, n_estimators=1000; total time=   2.1s\n",
      "[CV] END bootstrap=True, max_depth=10, max_features=auto, min_samples_leaf=4, min_samples_split=5, n_estimators=200; total time=   0.4s\n",
      "[CV] END bootstrap=True, max_depth=10, max_features=auto, min_samples_leaf=4, min_samples_split=5, n_estimators=200; total time=   0.4s\n",
      "[CV] END bootstrap=True, max_depth=10, max_features=auto, min_samples_leaf=4, min_samples_split=5, n_estimators=200; total time=   0.4s\n",
      "[CV] END bootstrap=True, max_depth=60, max_features=sqrt, min_samples_leaf=2, min_samples_split=10, n_estimators=600; total time=   1.2s\n",
      "[CV] END bootstrap=True, max_depth=60, max_features=sqrt, min_samples_leaf=2, min_samples_split=10, n_estimators=600; total time=   1.2s\n",
      "[CV] END bootstrap=True, max_depth=90, max_features=sqrt, min_samples_leaf=4, min_samples_split=2, n_estimators=800; total time=   1.5s\n",
      "[CV] END bootstrap=True, max_depth=90, max_features=sqrt, min_samples_leaf=4, min_samples_split=10, n_estimators=400; total time=   0.8s\n",
      "[CV] END bootstrap=True, max_depth=90, max_features=sqrt, min_samples_leaf=4, min_samples_split=10, n_estimators=400; total time=   0.8s\n",
      "[CV] END bootstrap=False, max_depth=90, max_features=auto, min_samples_leaf=2, min_samples_split=5, n_estimators=200; total time=   0.4s\n",
      "[CV] END bootstrap=True, max_depth=110, max_features=sqrt, min_samples_leaf=1, min_samples_split=2, n_estimators=1000; total time=   2.4s\n",
      "[CV] END bootstrap=True, max_depth=110, max_features=sqrt, min_samples_leaf=1, min_samples_split=2, n_estimators=1000; total time=   2.4s\n",
      "[CV] END bootstrap=True, max_depth=90, max_features=auto, min_samples_leaf=2, min_samples_split=2, n_estimators=2000; total time=   4.3s\n",
      "[CV] END bootstrap=False, max_depth=80, max_features=sqrt, min_samples_leaf=4, min_samples_split=10, n_estimators=400; total time=   0.7s\n",
      "[CV] END bootstrap=False, max_depth=80, max_features=sqrt, min_samples_leaf=4, min_samples_split=10, n_estimators=400; total time=   0.8s\n",
      "[CV] END bootstrap=False, max_depth=80, max_features=sqrt, min_samples_leaf=4, min_samples_split=10, n_estimators=400; total time=   0.8s\n",
      "[CV] END bootstrap=False, max_depth=70, max_features=sqrt, min_samples_leaf=4, min_samples_split=2, n_estimators=1200; total time=   2.3s\n",
      "[CV] END bootstrap=False, max_depth=110, max_features=sqrt, min_samples_leaf=2, min_samples_split=2, n_estimators=600; total time=   1.3s\n",
      "[CV] END bootstrap=False, max_depth=110, max_features=sqrt, min_samples_leaf=2, min_samples_split=2, n_estimators=600; total time=   1.3s\n",
      "[CV] END bootstrap=False, max_depth=20, max_features=auto, min_samples_leaf=1, min_samples_split=2, n_estimators=1800; total time=   4.8s\n",
      "[CV] END bootstrap=False, max_depth=20, max_features=auto, min_samples_leaf=1, min_samples_split=2, n_estimators=1800; total time=   4.8s\n",
      "[CV] END bootstrap=False, max_depth=50, max_features=auto, min_samples_leaf=2, min_samples_split=10, n_estimators=2000; total time=   4.2s\n",
      "[CV] END bootstrap=False, max_depth=50, max_features=auto, min_samples_leaf=4, min_samples_split=10, n_estimators=1000; total time=   1.9s\n",
      "[CV] END bootstrap=False, max_depth=30, max_features=auto, min_samples_leaf=4, min_samples_split=5, n_estimators=1000; total time=   1.9s\n",
      "[CV] END bootstrap=False, max_depth=30, max_features=auto, min_samples_leaf=4, min_samples_split=5, n_estimators=1000; total time=   1.9s\n",
      "[CV] END bootstrap=False, max_depth=None, max_features=sqrt, min_samples_leaf=2, min_samples_split=5, n_estimators=1400; total time=   3.1s\n",
      "[CV] END bootstrap=False, max_depth=60, max_features=sqrt, min_samples_leaf=4, min_samples_split=2, n_estimators=600; total time=   1.1s\n",
      "[CV] END bootstrap=False, max_depth=60, max_features=sqrt, min_samples_leaf=4, min_samples_split=2, n_estimators=600; total time=   1.1s\n",
      "[CV] END bootstrap=False, max_depth=60, max_features=sqrt, min_samples_leaf=4, min_samples_split=2, n_estimators=600; total time=   1.1s\n",
      "[CV] END bootstrap=True, max_depth=10, max_features=auto, min_samples_leaf=1, min_samples_split=5, n_estimators=1600; total time=   3.2s\n",
      "[CV] END bootstrap=True, max_depth=80, max_features=auto, min_samples_leaf=2, min_samples_split=2, n_estimators=1800; total time=   3.9s\n",
      "[CV] END bootstrap=True, max_depth=80, max_features=auto, min_samples_leaf=2, min_samples_split=2, n_estimators=1800; total time=   3.8s\n",
      "[CV] END bootstrap=True, max_depth=100, max_features=auto, min_samples_leaf=1, min_samples_split=2, n_estimators=1400; total time=   3.3s\n",
      "[CV] END bootstrap=True, max_depth=80, max_features=sqrt, min_samples_leaf=2, min_samples_split=10, n_estimators=1400; total time=   2.9s\n",
      "[CV] END bootstrap=True, max_depth=80, max_features=sqrt, min_samples_leaf=2, min_samples_split=10, n_estimators=1400; total time=   2.9s\n",
      "[CV] END bootstrap=True, max_depth=50, max_features=sqrt, min_samples_leaf=1, min_samples_split=2, n_estimators=200; total time=   0.5s\n",
      "[CV] END bootstrap=True, max_depth=10, max_features=sqrt, min_samples_leaf=4, min_samples_split=2, n_estimators=400; total time=   0.7s\n",
      "[CV] END bootstrap=False, max_depth=80, max_features=auto, min_samples_leaf=4, min_samples_split=10, n_estimators=1000; total time=   1.9s\n",
      "[CV] END bootstrap=False, max_depth=80, max_features=auto, min_samples_leaf=4, min_samples_split=10, n_estimators=1000; total time=   1.9s\n",
      "[CV] END bootstrap=False, max_depth=None, max_features=auto, min_samples_leaf=2, min_samples_split=10, n_estimators=1200; total time=   2.5s\n",
      "[CV] END bootstrap=True, max_depth=20, max_features=sqrt, min_samples_leaf=1, min_samples_split=10, n_estimators=1600; total time=   3.4s\n",
      "[CV] END bootstrap=True, max_depth=20, max_features=sqrt, min_samples_leaf=1, min_samples_split=10, n_estimators=1600; total time=   3.4s\n",
      "[CV] END bootstrap=True, max_depth=None, max_features=auto, min_samples_leaf=2, min_samples_split=10, n_estimators=1600; total time=   3.3s\n",
      "[CV] END bootstrap=False, max_depth=10, max_features=auto, min_samples_leaf=4, min_samples_split=2, n_estimators=1800; total time=   3.2s\n",
      "[CV] END bootstrap=False, max_depth=10, max_features=auto, min_samples_leaf=4, min_samples_split=2, n_estimators=1800; total time=   3.1s\n",
      "[CV] END bootstrap=True, max_depth=70, max_features=auto, min_samples_leaf=2, min_samples_split=2, n_estimators=1400; total time=   3.0s\n",
      "[CV] END bootstrap=False, max_depth=80, max_features=sqrt, min_samples_leaf=1, min_samples_split=10, n_estimators=1000; total time=   2.2s\n",
      "[CV] END bootstrap=False, max_depth=80, max_features=sqrt, min_samples_leaf=1, min_samples_split=10, n_estimators=1000; total time=   2.4s\n",
      "[CV] END bootstrap=False, max_depth=60, max_features=auto, min_samples_leaf=2, min_samples_split=10, n_estimators=2000; total time=   4.2s\n",
      "[CV] END bootstrap=False, max_depth=80, max_features=sqrt, min_samples_leaf=4, min_samples_split=2, n_estimators=1400; total time=   2.6s\n",
      "[CV] END bootstrap=False, max_depth=80, max_features=sqrt, min_samples_leaf=4, min_samples_split=2, n_estimators=1400; total time=   2.7s\n",
      "[CV] END bootstrap=False, max_depth=20, max_features=sqrt, min_samples_leaf=4, min_samples_split=2, n_estimators=800; total time=   1.5s\n",
      "[CV] END bootstrap=True, max_depth=60, max_features=sqrt, min_samples_leaf=2, min_samples_split=5, n_estimators=1800; total time=   3.8s\n",
      "[CV] END bootstrap=True, max_depth=60, max_features=sqrt, min_samples_leaf=2, min_samples_split=5, n_estimators=1800; total time=   3.8s\n",
      "[CV] END bootstrap=True, max_depth=90, max_features=auto, min_samples_leaf=1, min_samples_split=5, n_estimators=1600; total time=   3.7s\n",
      "[CV] END bootstrap=True, max_depth=90, max_features=auto, min_samples_leaf=1, min_samples_split=5, n_estimators=1600; total time=   3.7s\n",
      "[CV] END bootstrap=True, max_depth=None, max_features=sqrt, min_samples_leaf=1, min_samples_split=10, n_estimators=1600; total time=   3.5s\n",
      "[CV] END bootstrap=True, max_depth=100, max_features=sqrt, min_samples_leaf=1, min_samples_split=5, n_estimators=2000; total time=   4.7s\n",
      "[CV] END bootstrap=True, max_depth=100, max_features=sqrt, min_samples_leaf=1, min_samples_split=5, n_estimators=2000; total time=   4.5s\n",
      "[CV] END bootstrap=True, max_depth=60, max_features=sqrt, min_samples_leaf=2, min_samples_split=2, n_estimators=1000; total time=   2.1s\n",
      "[CV] END bootstrap=True, max_depth=60, max_features=sqrt, min_samples_leaf=2, min_samples_split=10, n_estimators=600; total time=   1.2s\n",
      "[CV] END bootstrap=True, max_depth=90, max_features=sqrt, min_samples_leaf=4, min_samples_split=2, n_estimators=800; total time=   1.5s\n",
      "[CV] END bootstrap=True, max_depth=90, max_features=sqrt, min_samples_leaf=4, min_samples_split=2, n_estimators=800; total time=   1.5s\n",
      "[CV] END bootstrap=True, max_depth=90, max_features=sqrt, min_samples_leaf=4, min_samples_split=10, n_estimators=400; total time=   0.8s\n",
      "[CV] END bootstrap=False, max_depth=90, max_features=auto, min_samples_leaf=2, min_samples_split=5, n_estimators=200; total time=   0.4s\n",
      "[CV] END bootstrap=False, max_depth=90, max_features=auto, min_samples_leaf=2, min_samples_split=5, n_estimators=200; total time=   0.4s\n",
      "[CV] END bootstrap=True, max_depth=110, max_features=sqrt, min_samples_leaf=1, min_samples_split=2, n_estimators=1000; total time=   2.4s\n",
      "[CV] END bootstrap=True, max_depth=90, max_features=auto, min_samples_leaf=2, min_samples_split=2, n_estimators=2000; total time=   4.1s\n",
      "[CV] END bootstrap=True, max_depth=90, max_features=auto, min_samples_leaf=2, min_samples_split=2, n_estimators=2000; total time=   4.3s\n",
      "[CV] END bootstrap=False, max_depth=70, max_features=sqrt, min_samples_leaf=4, min_samples_split=2, n_estimators=1200; total time=   2.3s\n",
      "[CV] END bootstrap=False, max_depth=70, max_features=sqrt, min_samples_leaf=4, min_samples_split=2, n_estimators=1200; total time=   2.3s\n",
      "[CV] END bootstrap=False, max_depth=110, max_features=sqrt, min_samples_leaf=2, min_samples_split=2, n_estimators=600; total time=   1.3s\n",
      "[CV] END bootstrap=False, max_depth=20, max_features=auto, min_samples_leaf=1, min_samples_split=2, n_estimators=1800; total time=   4.8s\n",
      "[CV] END bootstrap=False, max_depth=50, max_features=auto, min_samples_leaf=2, min_samples_split=10, n_estimators=2000; total time=   4.0s\n",
      "[CV] END bootstrap=False, max_depth=50, max_features=auto, min_samples_leaf=2, min_samples_split=10, n_estimators=2000; total time=   4.1s\n",
      "[CV] END bootstrap=False, max_depth=50, max_features=auto, min_samples_leaf=4, min_samples_split=10, n_estimators=1000; total time=   1.9s\n",
      "[CV] END bootstrap=False, max_depth=50, max_features=auto, min_samples_leaf=4, min_samples_split=10, n_estimators=1000; total time=   1.9s\n",
      "[CV] END bootstrap=False, max_depth=30, max_features=auto, min_samples_leaf=4, min_samples_split=5, n_estimators=1000; total time=   1.9s\n",
      "[CV] END bootstrap=False, max_depth=None, max_features=sqrt, min_samples_leaf=2, min_samples_split=5, n_estimators=1400; total time=   3.0s\n",
      "[CV] END bootstrap=False, max_depth=None, max_features=sqrt, min_samples_leaf=2, min_samples_split=5, n_estimators=1400; total time=   3.0s\n",
      "[CV] END bootstrap=True, max_depth=10, max_features=auto, min_samples_leaf=1, min_samples_split=5, n_estimators=1600; total time=   3.2s\n",
      "[CV] END bootstrap=True, max_depth=10, max_features=auto, min_samples_leaf=1, min_samples_split=5, n_estimators=1600; total time=   3.1s\n",
      "[CV] END bootstrap=True, max_depth=80, max_features=auto, min_samples_leaf=2, min_samples_split=2, n_estimators=1800; total time=   3.8s\n",
      "[CV] END bootstrap=True, max_depth=100, max_features=auto, min_samples_leaf=1, min_samples_split=2, n_estimators=1400; total time=   3.4s\n",
      "[CV] END bootstrap=True, max_depth=100, max_features=auto, min_samples_leaf=1, min_samples_split=2, n_estimators=1400; total time=   3.4s\n",
      "[CV] END bootstrap=True, max_depth=80, max_features=sqrt, min_samples_leaf=2, min_samples_split=10, n_estimators=1400; total time=   2.8s\n",
      "[CV] END bootstrap=True, max_depth=50, max_features=sqrt, min_samples_leaf=1, min_samples_split=2, n_estimators=200; total time=   0.5s\n",
      "[CV] END bootstrap=True, max_depth=50, max_features=sqrt, min_samples_leaf=1, min_samples_split=2, n_estimators=200; total time=   0.5s\n",
      "[CV] END bootstrap=True, max_depth=10, max_features=sqrt, min_samples_leaf=4, min_samples_split=2, n_estimators=400; total time=   0.8s\n",
      "[CV] END bootstrap=True, max_depth=10, max_features=sqrt, min_samples_leaf=4, min_samples_split=2, n_estimators=400; total time=   0.8s\n",
      "[CV] END bootstrap=False, max_depth=80, max_features=auto, min_samples_leaf=4, min_samples_split=10, n_estimators=1000; total time=   1.9s\n",
      "[CV] END bootstrap=False, max_depth=None, max_features=auto, min_samples_leaf=2, min_samples_split=10, n_estimators=1200; total time=   2.5s\n",
      "[CV] END bootstrap=False, max_depth=None, max_features=auto, min_samples_leaf=2, min_samples_split=10, n_estimators=1200; total time=   2.5s\n",
      "[CV] END bootstrap=True, max_depth=20, max_features=sqrt, min_samples_leaf=1, min_samples_split=10, n_estimators=1600; total time=   3.4s\n",
      "[CV] END bootstrap=True, max_depth=None, max_features=auto, min_samples_leaf=2, min_samples_split=10, n_estimators=1600; total time=   3.2s\n",
      "[CV] END bootstrap=True, max_depth=None, max_features=auto, min_samples_leaf=2, min_samples_split=10, n_estimators=1600; total time=   3.3s\n",
      "[CV] END bootstrap=False, max_depth=10, max_features=auto, min_samples_leaf=4, min_samples_split=2, n_estimators=1800; total time=   3.2s\n",
      "[CV] END bootstrap=True, max_depth=70, max_features=auto, min_samples_leaf=2, min_samples_split=2, n_estimators=1400; total time=   2.9s\n",
      "[CV] END bootstrap=True, max_depth=70, max_features=auto, min_samples_leaf=2, min_samples_split=2, n_estimators=1400; total time=   3.0s\n",
      "[CV] END bootstrap=False, max_depth=80, max_features=sqrt, min_samples_leaf=1, min_samples_split=10, n_estimators=1000; total time=   2.3s\n",
      "[CV] END bootstrap=False, max_depth=60, max_features=auto, min_samples_leaf=2, min_samples_split=10, n_estimators=2000; total time=   4.1s\n",
      "[CV] END bootstrap=False, max_depth=60, max_features=auto, min_samples_leaf=2, min_samples_split=10, n_estimators=2000; total time=   4.2s\n",
      "[CV] END bootstrap=False, max_depth=80, max_features=sqrt, min_samples_leaf=4, min_samples_split=2, n_estimators=1400; total time=   2.7s\n",
      "[CV] END bootstrap=False, max_depth=20, max_features=sqrt, min_samples_leaf=4, min_samples_split=2, n_estimators=800; total time=   1.5s\n",
      "[CV] END bootstrap=False, max_depth=20, max_features=sqrt, min_samples_leaf=4, min_samples_split=2, n_estimators=800; total time=   1.5s\n",
      "[CV] END bootstrap=True, max_depth=60, max_features=sqrt, min_samples_leaf=2, min_samples_split=5, n_estimators=1800; total time=   3.8s\n",
      "[CV] END bootstrap=False, max_depth=90, max_features=auto, min_samples_leaf=1, min_samples_split=5, n_estimators=400; total time=   1.0s\n",
      "[CV] END bootstrap=False, max_depth=90, max_features=auto, min_samples_leaf=1, min_samples_split=5, n_estimators=400; total time=   1.0s\n",
      "[CV] END bootstrap=False, max_depth=90, max_features=auto, min_samples_leaf=1, min_samples_split=5, n_estimators=400; total time=   1.0s\n",
      "[CV] END bootstrap=True, max_depth=90, max_features=auto, min_samples_leaf=1, min_samples_split=5, n_estimators=1600; total time=   3.7s\n",
      "[CV] END bootstrap=False, max_depth=90, max_features=sqrt, min_samples_leaf=2, min_samples_split=10, n_estimators=400; total time=   0.8s\n",
      "[CV] END bootstrap=False, max_depth=90, max_features=sqrt, min_samples_leaf=2, min_samples_split=10, n_estimators=400; total time=   0.9s\n",
      "[CV] END bootstrap=False, max_depth=90, max_features=sqrt, min_samples_leaf=2, min_samples_split=10, n_estimators=400; total time=   0.8s\n",
      "[CV] END bootstrap=True, max_depth=None, max_features=sqrt, min_samples_leaf=1, min_samples_split=10, n_estimators=1600; total time=   3.5s\n",
      "[CV] END bootstrap=True, max_depth=None, max_features=sqrt, min_samples_leaf=1, min_samples_split=10, n_estimators=1600; total time=   3.5s\n",
      "[CV] END bootstrap=True, max_depth=100, max_features=sqrt, min_samples_leaf=1, min_samples_split=5, n_estimators=2000; total time=   4.6s\n",
      "[CV] END bootstrap=True, max_depth=10, max_features=sqrt, min_samples_leaf=2, min_samples_split=5, n_estimators=1000; total time=   2.0s\n",
      "[CV] END bootstrap=True, max_depth=10, max_features=sqrt, min_samples_leaf=2, min_samples_split=5, n_estimators=1000; total time=   1.9s\n"
     ]
    },
    {
     "data": {
      "text/plain": [
       "RandomizedSearchCV(cv=3, estimator=RandomForestClassifier(random_state=42),\n",
       "                   n_iter=100, n_jobs=-1,\n",
       "                   param_distributions={'bootstrap': [True, False],\n",
       "                                        'max_depth': [10, 20, 30, 40, 50, 60,\n",
       "                                                      70, 80, 90, 100, 110,\n",
       "                                                      None],\n",
       "                                        'max_features': ['auto', 'sqrt'],\n",
       "                                        'min_samples_leaf': [1, 2, 4],\n",
       "                                        'min_samples_split': [2, 5, 10],\n",
       "                                        'n_estimators': [200, 400, 600, 800,\n",
       "                                                         1000, 1200, 1400, 1600,\n",
       "                                                         1800, 2000]},\n",
       "                   random_state=42, verbose=2)"
      ]
     },
     "execution_count": 118,
     "metadata": {},
     "output_type": "execute_result"
    }
   ],
   "source": [
    "rf_random = RandomizedSearchCV(estimator=rf,\n",
    "                              param_distributions=random_grid,\n",
    "                              n_iter=100,\n",
    "                              cv=3,\n",
    "                              verbose=2,\n",
    "                              random_state=42,\n",
    "                              n_jobs=-1)\n",
    "rf_random.fit(X_train_new,y_train_new)"
   ]
  },
  {
   "cell_type": "code",
   "execution_count": null,
   "id": "bf00b5d5-335b-41ef-b513-af7867473ade",
   "metadata": {},
   "outputs": [
    {
     "name": "stdout",
     "output_type": "stream",
     "text": [
      "0.6624040920716112\n"
     ]
    }
   ],
   "source": [
    "y_pred_new = rf_random.predict(X_test_new)\n",
    "print(accuracy_score(y_test,y_pred_new))"
   ]
  },
  {
   "cell_type": "code",
   "execution_count": null,
   "id": "0bea6aea-bc21-449d-968c-c80dc946ef8f",
   "metadata": {},
   "outputs": [
    {
     "data": {
      "image/png": "[encoded data removed]",
      "text/plain": [
       "<Figure size 432x288 with 2 Axes>"
      ]
     },
     "metadata": {},
     "output_type": "display_data"
    }
   ],
   "source": [
    "rf_cm = sns.heatmap(confusion_matrix(y_test_new,y_pred_new), cmap='Blues_r', annot=True, fmt='g')\n",
    "rf_cm.set_xlabel('Predicted Values')\n",
    "rf_cm.set_ylabel('Actual Values')\n",
    "plt.show()"
   ]
  },
  {
   "cell_type": "markdown",
   "id": "9a4972db-0dc7-4c31-a588-79fd8198a94d",
   "metadata": {},
   "source": [
    "### Conclusions:\n",
    "The reduced model with tuned hyperparameters give us an accuracy of approximately 66.8%. Note, the full model with the tuned hyperparameters gave us an accuracy of about 66.2%. The reduced model has a better accuracy of 0.6%, but more importantly a simpler model is always prefered.\n",
    "\n",
    "With an accruacy of 66.8%, we are hitting the success criteria of two-thirds prediction accuracy. More specifically, 274/408 = 67% for the venues without wheelchair accessibility were correctly classfied and 248/374 = 66% for the venues with wheelchair accesibility were correctly classified.\n",
    "\n",
    "To increase this accuracy, it may be neccesary to collect more detailed data on the venues. Data such as location (i.e. urban, rural, suburban, etc.) and size of the venue (in square feet) are some ideas to start with. It may be important to include more detailed information about the types of events being held (i.e concerts, sporting events, comedy shows, etc.)"
   ]
  }
 ],
 "metadata": {
  "colab": {
   "name": "Welcome to DataCamp Workspaces.ipynb",
   "provenance": []
  },
  "editor": "DataCamp Workspace",
  "kernelspec": {
   "display_name": "Python 3 (ipykernel)",
   "language": "python",
   "name": "python3"
  },
  "language_info": {
   "codemirror_mode": {
    "name": "ipython",
    "version": 3
   },
   "file_extension": ".py",
   "mimetype": "text/x-python",
   "name": "python",
   "nbconvert_exporter": "python",
   "pygments_lexer": "ipython3",
   "version": "3.9.7"
  }
 },
 "nbformat": 4,
 "nbformat_minor": 5
}
